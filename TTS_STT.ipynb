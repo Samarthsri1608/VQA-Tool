{
  "nbformat": 4,
  "nbformat_minor": 0,
  "metadata": {
    "colab": {
      "provenance": [],
      "gpuType": "T4",
      "authorship_tag": "ABX9TyNtAyMAVVtjQR9JA+BvEUft"
    },
    "kernelspec": {
      "name": "python3",
      "display_name": "Python 3"
    },
    "language_info": {
      "name": "python"
    },
    "accelerator": "GPU"
  },
  "cells": [
    {
      "cell_type": "code",
      "execution_count": null,
      "metadata": {
        "id": "pRFcfxRjXmU3"
      },
      "outputs": [],
      "source": [
        "# Gemini TTS and STT"
      ]
    },
    {
      "cell_type": "code",
      "source": [
        "!pip install google-genai"
      ],
      "metadata": {
        "id": "2n4I7blUXvMw"
      },
      "execution_count": null,
      "outputs": []
    },
    {
      "cell_type": "code",
      "source": [
        "from google import genai\n",
        "from google.genai import types\n",
        "import wave"
      ],
      "metadata": {
        "id": "91IMIEUQYL6i"
      },
      "execution_count": null,
      "outputs": []
    },
    {
      "cell_type": "code",
      "source": [
        "GEMINI_API_KEY = \"<>\""
      ],
      "metadata": {
        "id": "nLU0hwupXylo"
      },
      "execution_count": null,
      "outputs": []
    },
    {
      "cell_type": "code",
      "source": [
        "def wave_file(filename, pcm, channels=1, rate=24000, sample_width=2):\n",
        "   with wave.open(filename, \"wb\") as wf:\n",
        "      wf.setnchannels(channels)\n",
        "      wf.setsampwidth(sample_width)\n",
        "      wf.setframerate(rate)\n",
        "      wf.writeframes(pcm)\n"
      ],
      "metadata": {
        "id": "0XGOIM2jYaSo"
      },
      "execution_count": null,
      "outputs": []
    },
    {
      "cell_type": "code",
      "source": [
        "client = genai.Client(api_key=GEMINI_API_KEY)"
      ],
      "metadata": {
        "id": "Z_BJzcV-Yks3"
      },
      "execution_count": null,
      "outputs": []
    },
    {
      "cell_type": "code",
      "source": [
        "mood = \"calmly\"\n",
        "text = \"I am an AI assitant designed to make your life easier\"\n",
        "speech = f\"say {mood} : {text}\""
      ],
      "metadata": {
        "id": "nwXjaQ_DYx1w"
      },
      "execution_count": null,
      "outputs": []
    },
    {
      "cell_type": "code",
      "source": [
        "voice = client.models.generate_content(\n",
        "   model=\"gemini-2.5-flash-preview-tts\",\n",
        "   contents=f\"{speech}\",\n",
        "   config=types.GenerateContentConfig(\n",
        "      response_modalities=[\"AUDIO\"],\n",
        "      speech_config=types.SpeechConfig(\n",
        "         voice_config=types.VoiceConfig(\n",
        "            prebuilt_voice_config=types.PrebuiltVoiceConfig(\n",
        "               voice_name='Sadaltager',\n",
        "            )\n",
        "         )\n",
        "      ),\n",
        "   )\n",
        ")\n"
      ],
      "metadata": {
        "id": "lED2JzGCYpyq"
      },
      "execution_count": null,
      "outputs": []
    },
    {
      "cell_type": "code",
      "source": [
        "data = voice.candidates[0].content.parts[0].inline_data.data\n",
        "\n",
        "file_name='out.wav'\n",
        "wave_file(file_name, data)"
      ],
      "metadata": {
        "id": "OBisxbrAZOo2"
      },
      "execution_count": null,
      "outputs": []
    },
    {
      "cell_type": "code",
      "metadata": {
        "id": "f2d86d2b"
      },
      "source": [
        "from IPython.display import Audio\n",
        "\n",
        "Audio(\"out.wav\")"
      ],
      "execution_count": null,
      "outputs": []
    },
    {
      "cell_type": "code",
      "source": [
        "audio_file = client.files.upload(file=\"out.wav\")\n",
        "\n",
        "transcribe = client.models.generate_content(\n",
        "    model=\"gemini-2.5-flash\", contents=[\"transcribe this audio\", audio_file]\n",
        ")\n",
        "\n",
        "print(transcribe.text)"
      ],
      "metadata": {
        "id": "63bb81H7ZwN6"
      },
      "execution_count": null,
      "outputs": []
    },
    {
      "cell_type": "code",
      "source": [],
      "metadata": {
        "id": "9jYOJxsObxoC"
      },
      "execution_count": null,
      "outputs": []
    }
  ]
}