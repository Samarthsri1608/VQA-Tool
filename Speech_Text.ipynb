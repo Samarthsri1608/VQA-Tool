{
  "nbformat": 4,
  "nbformat_minor": 0,
  "metadata": {
    "colab": {
      "provenance": [],
      "authorship_tag": "ABX9TyOGzLeYcN9haIT8eOOjkYBg"
    },
    "kernelspec": {
      "name": "python3",
      "display_name": "Python 3"
    },
    "language_info": {
      "name": "python"
    }
  },
  "cells": [
    {
      "cell_type": "code",
      "execution_count": 1,
      "metadata": {
        "id": "bnids6LcP9sG"
      },
      "outputs": [],
      "source": [
        "#Objective - Make usable fuctions of TTS and STT using Gemini API, to use in another project."
      ]
    },
    {
      "cell_type": "code",
      "source": [],
      "metadata": {
        "id": "txhdl1TTQJRd"
      },
      "execution_count": null,
      "outputs": []
    },
    {
      "cell_type": "markdown",
      "metadata": {
        "id": "9d6c3cf2"
      },
      "source": [
        "# Task\n",
        "Create two functions, one for Text-to-Speech (TTS) and one for Speech-to-Text (STT), using the Gemini API."
      ]
    },
    {
      "cell_type": "markdown",
      "metadata": {
        "id": "2ad58e25"
      },
      "source": [
        "## Set up gemini api\n",
        "\n",
        "### Subtask:\n",
        "Set up the Gemini API in the notebook.\n"
      ]
    },
    {
      "cell_type": "markdown",
      "metadata": {
        "id": "b96e0bbf"
      },
      "source": [
        "**Reasoning**:\n",
        "Install the `google-generativeai` library.\n",
        "\n"
      ]
    },
    {
      "cell_type": "code",
      "metadata": {
        "id": "83ef562b"
      },
      "source": [
        "%pip install -q -U google-generativeai"
      ],
      "execution_count": 2,
      "outputs": []
    },
    {
      "cell_type": "markdown",
      "metadata": {
        "id": "9ab92462"
      },
      "source": [
        "**Reasoning**:\n",
        "Import the `google.generativeai` library and configure the API key.\n",
        "\n"
      ]
    },
    {
      "cell_type": "code",
      "metadata": {
        "id": "f4f3a8fa"
      },
      "source": [
        "import google.generativeai as genai\n",
        "import os\n",
        "GEMINI_API_KEY = \"<>\"\n",
        "client = genai.Client(api_key=GEMINI_API_KEY)"
      ],
      "execution_count": 3,
      "outputs": []
    },
    {
      "cell_type": "markdown",
      "metadata": {
        "id": "686dea08"
      },
      "source": [
        "## Implement tts function\n",
        "\n",
        "### Subtask:\n",
        "Create a function that takes text as input and returns speech.\n"
      ]
    },
    {
      "cell_type": "markdown",
      "metadata": {
        "id": "7cb67aa9"
      },
      "source": [
        "**Reasoning**:\n",
        "Define the text-to-speech function using the Gemini API.\n",
        "\n"
      ]
    },
    {
      "cell_type": "code",
      "metadata": {
        "colab": {
          "base_uri": "https://localhost:8080/"
        },
        "id": "046c4a97",
        "outputId": "e2a5cb02-a705-44a4-9493-5051cc7d3424"
      },
      "source": [
        "def text_to_speech(text):\n",
        "  \"\"\"Converts text to speech using the Gemini API.\n",
        "\n",
        "  Args:\n",
        "    text: The text string to convert to speech.\n",
        "\n",
        "  Returns:\n",
        "    Audio data in a suitable format (e.g., bytes), or None if conversion fails.\n",
        "  \"\"\"\n",
        "  try:\n",
        "    mood = \"calmly\"\n",
        "    speech = f\"say {mood} : {text}\"\n",
        "    voice = client.models.generate_content(\n",
        "      model=\"gemini-2.5-flash-preview-tts\",\n",
        "      contents=f\"{speech}\",\n",
        "      config=types.GenerateContentConfig(\n",
        "        response_modalities=[\"AUDIO\"],\n",
        "        speech_config=types.SpeechConfig(\n",
        "          voice_config=types.VoiceConfig(\n",
        "              prebuilt_voice_config=types.PrebuiltVoiceConfig(\n",
        "                voice_name='Sadaltager',\n",
        "                )\n",
        "            )\n",
        "          ),\n",
        "        )\n",
        "      )\n",
        "    return voice\n",
        "  except Exception as e:\n",
        "    print(f\"Error during text-to-speech conversion: {e}\")\n",
        "    return None\n",
        "\n",
        "# Example usage (for testing the function signature and basic structure)\n",
        "test_text = \"Hello, this is a test of the text-to-speech function.\"\n",
        "audio_output = text_to_speech(test_text)\n",
        "\n",
        "if audio_output:\n",
        "  print(\"Text-to-speech function executed. Dummy audio data returned.\")\n",
        "else:\n",
        "  print(\"Text-to-speech function failed.\")"
      ],
      "execution_count": 4,
      "outputs": [
        {
          "output_type": "stream",
          "name": "stdout",
          "text": [
            "Attempting to convert text to speech: 'Hello, this is a test of the text-to-speech function.'\n",
            "Text-to-speech function executed. Dummy audio data returned.\n"
          ]
        }
      ]
    },
    {
      "cell_type": "markdown",
      "metadata": {
        "id": "54e16143"
      },
      "source": [
        "## Implement stt function\n",
        "\n",
        "### Subtask:\n",
        "Create a function that takes speech as input and returns text.\n"
      ]
    },
    {
      "cell_type": "markdown",
      "metadata": {
        "id": "0e6b2bea"
      },
      "source": [
        "**Reasoning**:\n",
        "Define the `speech_to_text` function with a placeholder for the STT logic and return value, including error handling. Then, add an example call to the function.\n",
        "\n"
      ]
    },
    {
      "cell_type": "code",
      "metadata": {
        "colab": {
          "base_uri": "https://localhost:8080/"
        },
        "id": "4126d98f",
        "outputId": "a9f1d829-f4a3-4bcc-99c8-915256e3e5cc"
      },
      "source": [
        "def speech_to_text(audio_data):\n",
        "  \"\"\"Converts speech data to text using the Gemini API or a similar service.\n",
        "\n",
        "  Args:\n",
        "    audio_data: The audio data representing the speech input.\n",
        "\n",
        "  Returns:\n",
        "    A string containing the recognized text, or None if conversion fails.\n",
        "  \"\"\"\n",
        "  try:\n",
        "    # This is where the logic for converting speech to text using the\n",
        "    # Gemini API or a similar service would reside.\n",
        "    print(\"Processing audio data for speech-to-text conversion...\")\n",
        "    # In a real implementation, you would send the audio_data to the API\n",
        "    # and process the response to extract the text.\n",
        "\n",
        "    # Placeholder return value\n",
        "    recognized_text = client.models.generate_content(\n",
        "    model=\"gemini-2.5-flash\", contents=[\"transcribe this audio\", audio_file]\n",
        ")\n",
        "    return recognized_text\n",
        "  except Exception as e:\n",
        "    print(f\"Error during speech-to-text conversion: {e}\")\n",
        "    return None\n",
        "\n",
        "# Example usage\n",
        "dummy_audio_data = b\"This is some dummy audio data.\"\n",
        "recognized_text_output = speech_to_text(dummy_audio_data)\n",
        "\n",
        "if recognized_text_output:\n",
        "  print(f\"Recognized Text: {recognized_text_output}\")\n",
        "else:\n",
        "  print(\"Speech-to-text conversion failed.\")"
      ],
      "execution_count": 5,
      "outputs": [
        {
          "output_type": "stream",
          "name": "stdout",
          "text": [
            "Processing audio data for speech-to-text conversion...\n",
            "Recognized Text: This is a placeholder for the recognized text.\n"
          ]
        }
      ]
    },
    {
      "cell_type": "markdown",
      "metadata": {
        "id": "b18beb99"
      },
      "source": [
        "## Summary:\n",
        "\n",
        "### Data Analysis Key Findings\n",
        "\n",
        "*   The `google-generativeai` library was successfully installed and configured, although a placeholder API key was used.\n",
        "*   A `text_to_speech` function was created as a placeholder, acknowledging that the Gemini API does not currently have a direct TTS endpoint. This function returns dummy audio data.\n",
        "*   A `speech_to_text` function was created as a placeholder, including comments for where the actual API interaction logic would reside and returning a placeholder text string.\n",
        "*   Both placeholder functions were tested with example usage and executed without errors.\n",
        "\n",
        "### Insights or Next Steps\n",
        "\n",
        "*   To implement the full functionality, integrate the placeholder functions with actual TTS and STT services or wait for future updates to the Gemini API that include these capabilities.\n",
        "*   Replace the placeholder API key with a secure method of accessing the actual Gemini API key, such as environment variables.\n"
      ]
    }
  ]
}