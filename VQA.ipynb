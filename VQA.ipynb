{
  "nbformat": 4,
  "nbformat_minor": 0,
  "metadata": {
    "colab": {
      "provenance": [],
      "authorship_tag": "ABX9TyN7cWQbiNslkGwPRAAGJjGo"
    },
    "kernelspec": {
      "name": "python3",
      "display_name": "Python 3"
    },
    "language_info": {
      "name": "python"
    }
  },
  "cells": [
    {
      "cell_type": "code",
      "execution_count": null,
      "metadata": {
        "id": "C-b-93VW2S3Q"
      },
      "outputs": [],
      "source": [
        "!pip install ultralytics\n",
        "!pip install opencv-python\n"
      ]
    },
    {
      "cell_type": "code",
      "source": [
        "from ultralytics import YOLO\n",
        "import cv2\n",
        "import numpy as np\n",
        "import matplotlib.pyplot as plt"
      ],
      "metadata": {
        "id": "KD83agL14p6E"
      },
      "execution_count": null,
      "outputs": []
    },
    {
      "cell_type": "code",
      "source": [
        "model = YOLO(\"yolov8s.pt\")"
      ],
      "metadata": {
        "id": "LJ0jGQZD5AqU"
      },
      "execution_count": null,
      "outputs": []
    },
    {
      "cell_type": "code",
      "source": [
        "results = model(\"dogs.jpg\", show=True)\n",
        "plt.imshow(np.squeeze(results[0].plot()))\n",
        "plt.show()"
      ],
      "metadata": {
        "id": "AILpPL_05sl6"
      },
      "execution_count": null,
      "outputs": []
    },
    {
      "cell_type": "code",
      "source": [
        "result2 = model(\"dog1.jpg\", show=True, conf=0.60)\n",
        "plt.imshow(np.squeeze(result2[0].plot()))\n",
        "plt.show()"
      ],
      "metadata": {
        "id": "U3z-Avxs5_bd"
      },
      "execution_count": null,
      "outputs": []
    },
    {
      "cell_type": "code",
      "source": [
        "result3 = model(\"people.jpg\", show=True)\n",
        "plt.imshow(np.squeeze(result3[0].plot()))\n",
        "plt.show()"
      ],
      "metadata": {
        "id": "Xb9xUwQ46505"
      },
      "execution_count": null,
      "outputs": []
    },
    {
      "cell_type": "code",
      "source": [],
      "metadata": {
        "id": "Zd1_lBH2-2xx"
      },
      "execution_count": null,
      "outputs": []
    }
  ]
}