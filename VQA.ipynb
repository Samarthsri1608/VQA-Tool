{
  "nbformat": 4,
  "nbformat_minor": 0,
  "metadata": {
    "colab": {
      "provenance": [],
      "authorship_tag": "ABX9TyNPYh8KcwnlNz4ycgRN9D8U"
    },
    "kernelspec": {
      "name": "python3",
      "display_name": "Python 3"
    },
    "language_info": {
      "name": "python"
    }
  },
  "cells": [
    {
      "cell_type": "code",
      "execution_count": null,
      "metadata": {
        "id": "C-b-93VW2S3Q"
      },
      "outputs": [],
      "source": [
        "!pip install ultralytics\n",
        "!pip install opencv-python\n",
        "!pip install google-genai"
      ]
    },
    {
      "cell_type": "code",
      "source": [
        "from ultralytics import YOLO\n",
        "import cv2\n",
        "import numpy as np\n",
        "import matplotlib.pyplot as plt\n",
        "from google import genai"
      ],
      "metadata": {
        "id": "KD83agL14p6E"
      },
      "execution_count": null,
      "outputs": []
    },
    {
      "cell_type": "code",
      "source": [
        "model = YOLO(\"yolov8s.pt\")"
      ],
      "metadata": {
        "id": "LJ0jGQZD5AqU"
      },
      "execution_count": null,
      "outputs": []
    },
    {
      "cell_type": "code",
      "source": [
        "img_path = \"path\"\n",
        "results = model(img, show=True)\n",
        "plt.imshow(np.squeeze(results[0].plot()))\n",
        "plt.show()"
      ],
      "metadata": {
        "id": "BS0C5yTqNf7Q"
      },
      "execution_count": null,
      "outputs": []
    },
    {
      "cell_type": "code",
      "source": [
        "detected_objects = []\n",
        "for r in results:\n",
        "    for box in r.boxes:\n",
        "        cls_id = int(box.cls[0])  # class id\n",
        "        label = model.names[cls_id]  # class name\n",
        "        conf = float(box.conf[0])    # confidence score\n",
        "        detected_objects.append(f\"{label} ({conf:.2f})\")"
      ],
      "metadata": {
        "id": "TRo0SISKN9ai"
      },
      "execution_count": null,
      "outputs": []
    },
    {
      "cell_type": "code",
      "source": [
        "GEMINI_API_KEY = \"YOUR_API_KEY\"\n",
        "GEMINI_MODEL = \"gemini-1.5-flash\"\n",
        "client = genai.Client(api_key=GEMINI_API_KEY)"
      ],
      "metadata": {
        "id": "Zd1_lBH2-2xx"
      },
      "execution_count": null,
      "outputs": []
    },
    {
      "cell_type": "code",
      "source": [
        "def respond(context, query, model=GEMINI_MODEL):\n",
        "  response = client.models.generate_content(\n",
        "      model=\"gemini-2.0-flash-lite\", contents=f\"\"\"You are an Visual Question Answering Assitant, context includes the detected object with its confidence score.\n",
        "      Answer the question based on the context\n",
        "      Context: {context}, query = {query}\"\"\")\n",
        "  return response.text"
      ],
      "metadata": {
        "id": "G-lQvJ8OOzUy"
      },
      "execution_count": null,
      "outputs": []
    },
    {
      "cell_type": "code",
      "source": [],
      "metadata": {
        "id": "Nf_I9O2xNcdg"
      },
      "execution_count": null,
      "outputs": []
    }
  ]
}